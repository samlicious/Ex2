{
 "cells": [
  {
   "cell_type": "code",
   "execution_count": 6,
   "metadata": {},
   "outputs": [],
   "source": [
    "import numpy as np\n",
    "import csv\n",
    "import json\n",
    "import os"
   ]
  },
  {
   "cell_type": "code",
   "execution_count": 7,
   "metadata": {},
   "outputs": [],
   "source": [
    "root_scen = './scenarios/'"
   ]
  },
  {
   "cell_type": "code",
   "execution_count": 8,
   "metadata": {},
   "outputs": [],
   "source": [
    "def run_scenario(scenario_name):\n",
    "    java_command = 'java -jar vadere-console.jar scenario-run'\n",
    "    command = java_command + ' --scenario-file \"scenarios/' + scenario_name + '.scenario\" --output-dir=\"output\"'\n",
    "    os.system(command)"
   ]
  },
  {
   "cell_type": "code",
   "execution_count": 9,
   "metadata": {},
   "outputs": [],
   "source": [
    "def addPedestrian(in_file, out_file, ped_id, x, y, target_ids, speed):\n",
    "    ped = {\n",
    "      \"source\" : None,\n",
    "      \"targetIds\" : target_ids,\n",
    "      \"position\" : {\n",
    "        \"x\" : x,\n",
    "        \"y\" : y\n",
    "      },\n",
    "      \"velocity\" : {\n",
    "        \"x\" : 0.0,\n",
    "        \"y\" : 0.0\n",
    "      },\n",
    "      \"nextTargetListIndex\" : 0,\n",
    "      \"freeFlowSpeed\" : speed,\n",
    "      \"attributes\" : {\n",
    "        \"id\" : ped_id,\n",
    "        \"radius\" : 0.2,\n",
    "        \"densityDependentSpeed\" : False,\n",
    "        \"speedDistributionMean\" : 1.34,\n",
    "        \"speedDistributionStandardDeviation\" : 0.26,\n",
    "        \"minimumSpeed\" : 0.5,\n",
    "        \"maximumSpeed\" : 2.2,\n",
    "        \"acceleration\" : 2.0,\n",
    "        \"footStepsToStore\" : 4,\n",
    "        \"searchRadius\" : 1.0,\n",
    "        \"angleCalculationType\" : \"USE_CENTER\",\n",
    "        \"targetOrientationAngleThreshold\" : 45.0\n",
    "      },\n",
    "      \"idAsTarget\" : -1,\n",
    "      \"isChild\" : False,\n",
    "      \"isLikelyInjured\" : False,\n",
    "      \"mostImportantEvent\" : None,\n",
    "      \"salientBehavior\" : \"TARGET_ORIENTED\",\n",
    "      \"groupIds\" : [ ],\n",
    "      \"trajectory\" : {\n",
    "        \"footSteps\" : [ ]\n",
    "      },\n",
    "      \"groupSizes\" : [ ],\n",
    "      \"modelPedestrianMap\" : { },\n",
    "      \"type\" : \"PEDESTRIAN\"\n",
    "    }\n",
    "    with open(root_scen + in_file + '.scenario', 'r') as infile:\n",
    "        data = json.load(infile)\n",
    "        data['name'] = out_file\n",
    "        data['scenario']['topography']['dynamicElements'].append(ped)\n",
    "    with open(root_scen + out_file + '.scenario', 'w') as outfile:\n",
    "        json.dump(data, outfile, indent = 2)"
   ]
  },
  {
   "cell_type": "code",
   "execution_count": 10,
   "metadata": {},
   "outputs": [],
   "source": [
    "#Arguments: input file name, output file name, ped ID (-1), X position, Y position, target ID (1), speed.\n",
    "\n",
    "addPedestrian('rimea_06_corner', 'rimea_06_corner_new', -1, 12.0, 4.0, [1], 1.49)"
   ]
  },
  {
   "cell_type": "code",
   "execution_count": null,
   "metadata": {},
   "outputs": [],
   "source": []
  }
 ],
 "metadata": {
  "kernelspec": {
   "display_name": "Python 3",
   "language": "python",
   "name": "python3"
  },
  "language_info": {
   "codemirror_mode": {
    "name": "ipython",
    "version": 3
   },
   "file_extension": ".py",
   "mimetype": "text/x-python",
   "name": "python",
   "nbconvert_exporter": "python",
   "pygments_lexer": "ipython3",
   "version": "3.7.4"
  }
 },
 "nbformat": 4,
 "nbformat_minor": 4
}
